{
 "cells": [
  {
   "cell_type": "markdown",
   "id": "bea5398e",
   "metadata": {},
   "source": [
    "# Creating Numpy Arrays"
   ]
  },
  {
   "cell_type": "markdown",
   "id": "22852f55",
   "metadata": {},
   "source": [
    "# 0 D Array"
   ]
  },
  {
   "cell_type": "code",
   "execution_count": 2,
   "id": "c9b1e7de",
   "metadata": {},
   "outputs": [
    {
     "data": {
      "text/plain": [
       "'1.24.3'"
      ]
     },
     "execution_count": 2,
     "metadata": {},
     "output_type": "execute_result"
    }
   ],
   "source": [
    "import numpy as np\n",
    "np.__version__"
   ]
  },
  {
   "cell_type": "code",
   "execution_count": 3,
   "id": "bcbf8476",
   "metadata": {},
   "outputs": [
    {
     "name": "stdout",
     "output_type": "stream",
     "text": [
      "34\n"
     ]
    }
   ],
   "source": [
    "#0D array\n",
    "a_0 = np.array(34)\n",
    "print(a_0)"
   ]
  },
  {
   "cell_type": "code",
   "execution_count": null,
   "id": "814bf781",
   "metadata": {},
   "outputs": [],
   "source": [
    "#dimension check\n",
    "a_0.ndim"
   ]
  },
  {
   "cell_type": "code",
   "execution_count": 16,
   "id": "1fa1858a",
   "metadata": {},
   "outputs": [
    {
     "data": {
      "text/plain": [
       "()"
      ]
     },
     "execution_count": 16,
     "metadata": {},
     "output_type": "execute_result"
    }
   ],
   "source": [
    "#shape\n",
    "a_0.shape"
   ]
  },
  {
   "cell_type": "markdown",
   "id": "55cacc91",
   "metadata": {},
   "source": [
    "# 1 D Array\n"
   ]
  },
  {
   "cell_type": "code",
   "execution_count": 17,
   "id": "b3bacc90",
   "metadata": {},
   "outputs": [
    {
     "name": "stdout",
     "output_type": "stream",
     "text": [
      "[1 2 3]\n"
     ]
    }
   ],
   "source": [
    "a_1 = np.array([1,2,3])\n",
    "print(a_1)"
   ]
  },
  {
   "cell_type": "code",
   "execution_count": 18,
   "id": "f43369f1",
   "metadata": {},
   "outputs": [
    {
     "data": {
      "text/plain": [
       "1"
      ]
     },
     "execution_count": 18,
     "metadata": {},
     "output_type": "execute_result"
    }
   ],
   "source": [
    "#dimension\n",
    "a_1.ndim"
   ]
  },
  {
   "cell_type": "code",
   "execution_count": 20,
   "id": "946b0431",
   "metadata": {},
   "outputs": [
    {
     "data": {
      "text/plain": [
       "(3,)"
      ]
     },
     "execution_count": 20,
     "metadata": {},
     "output_type": "execute_result"
    }
   ],
   "source": [
    "a_1.shape"
   ]
  },
  {
   "cell_type": "markdown",
   "id": "164068b9",
   "metadata": {},
   "source": [
    "# 2 D Array"
   ]
  },
  {
   "cell_type": "code",
   "execution_count": 22,
   "id": "9a81ada0",
   "metadata": {},
   "outputs": [
    {
     "data": {
      "text/plain": [
       "array([[1, 2, 3],\n",
       "       [4, 5, 6]])"
      ]
     },
     "execution_count": 22,
     "metadata": {},
     "output_type": "execute_result"
    }
   ],
   "source": [
    "a_2 = np.array([[1,2,3],[4,5,6]])\n",
    "a_2"
   ]
  },
  {
   "cell_type": "code",
   "execution_count": 23,
   "id": "97615e58",
   "metadata": {},
   "outputs": [
    {
     "data": {
      "text/plain": [
       "2"
      ]
     },
     "execution_count": 23,
     "metadata": {},
     "output_type": "execute_result"
    }
   ],
   "source": [
    "#dimension\n",
    "a_2.ndim"
   ]
  },
  {
   "cell_type": "code",
   "execution_count": 25,
   "id": "5d6cada8",
   "metadata": {},
   "outputs": [
    {
     "data": {
      "text/plain": [
       "(2, 3)"
      ]
     },
     "execution_count": 25,
     "metadata": {},
     "output_type": "execute_result"
    }
   ],
   "source": [
    "#shape\n",
    "a_2.shape"
   ]
  },
  {
   "cell_type": "markdown",
   "id": "3cfbc38d",
   "metadata": {},
   "source": [
    "# 3 D Array"
   ]
  },
  {
   "cell_type": "code",
   "execution_count": 26,
   "id": "34d5cf1e",
   "metadata": {},
   "outputs": [
    {
     "data": {
      "text/plain": [
       "array([[[1, 2, 3],\n",
       "        [4, 5, 6],\n",
       "        [7, 8, 9]]])"
      ]
     },
     "execution_count": 26,
     "metadata": {},
     "output_type": "execute_result"
    }
   ],
   "source": [
    "a_3 = np.array([[[1,2,3],[4,5,6],[7,8,9]]])\n",
    "a_3"
   ]
  },
  {
   "cell_type": "code",
   "execution_count": 27,
   "id": "76fa93c4",
   "metadata": {},
   "outputs": [
    {
     "data": {
      "text/plain": [
       "3"
      ]
     },
     "execution_count": 27,
     "metadata": {},
     "output_type": "execute_result"
    }
   ],
   "source": [
    "#dimension\n",
    "a_3.ndim"
   ]
  },
  {
   "cell_type": "code",
   "execution_count": 28,
   "id": "c9f9dc7e",
   "metadata": {},
   "outputs": [
    {
     "data": {
      "text/plain": [
       "(1, 3, 3)"
      ]
     },
     "execution_count": 28,
     "metadata": {},
     "output_type": "execute_result"
    }
   ],
   "source": [
    "a_3.shape"
   ]
  },
  {
   "cell_type": "code",
   "execution_count": null,
   "id": "7c715596",
   "metadata": {},
   "outputs": [],
   "source": []
  }
 ],
 "metadata": {
  "kernelspec": {
   "display_name": "Python 3 (ipykernel)",
   "language": "python",
   "name": "python3"
  },
  "language_info": {
   "codemirror_mode": {
    "name": "ipython",
    "version": 3
   },
   "file_extension": ".py",
   "mimetype": "text/x-python",
   "name": "python",
   "nbconvert_exporter": "python",
   "pygments_lexer": "ipython3",
   "version": "3.11.3"
  }
 },
 "nbformat": 4,
 "nbformat_minor": 5
}
